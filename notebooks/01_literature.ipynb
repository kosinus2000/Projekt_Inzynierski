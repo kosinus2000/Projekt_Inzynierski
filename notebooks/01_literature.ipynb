{
 "cells": [
  {
   "cell_type": "markdown",
   "id": "f6faf7649a4c80cb",
   "metadata": {},
   "source": [
    "# Literatura"
   ]
  },
  {
   "cell_type": "markdown",
   "id": "129446b2e0c26394",
   "metadata": {},
   "source": [
    "3D Shape Modeling for Cell Nuclear Morphological Analysis and Classification\n",
    "https://www.nature.com/articles/s41598-018-31924-2"
   ]
  },
  {
   "cell_type": "markdown",
   "id": "8206ebda9e126a00",
   "metadata": {},
   "source": []
  }
 ],
 "metadata": {
  "kernelspec": {
   "display_name": "Python (inzynierka)",
   "language": "python",
   "name": "inzynierka"
  },
  "language_info": {
   "codemirror_mode": {
    "name": "ipython",
    "version": 2
   },
   "file_extension": ".py",
   "mimetype": "text/x-python",
   "name": "python",
   "nbconvert_exporter": "python",
   "pygments_lexer": "ipython2",
   "version": "3.11.7"
  }
 },
 "nbformat": 4,
 "nbformat_minor": 5
}
